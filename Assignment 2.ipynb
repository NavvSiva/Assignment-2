{
 "cells": [
  {
   "cell_type": "code",
   "execution_count": 23,
   "id": "076e712d-bd30-4611-8f98-2b02d734b61a",
   "metadata": {},
   "outputs": [
    {
     "name": "stdout",
     "output_type": "stream",
     "text": [
      "Collecting playsound\n",
      "  Downloading playsound-1.3.0.tar.gz (7.7 kB)\n",
      "  Preparing metadata (setup.py) ... \u001b[?25ldone\n",
      "\u001b[?25hBuilding wheels for collected packages: playsound\n",
      "  Building wheel for playsound (setup.py) ... \u001b[?25ldone\n",
      "\u001b[?25h  Created wheel for playsound: filename=playsound-1.3.0-py3-none-any.whl size=7020 sha256=955452fe092ce63618401faeabe86d5b66510b18a4df673a931b432560a4427f\n",
      "  Stored in directory: /Users/abhinav/Library/Caches/pip/wheels/cf/42/ff/7c587bae55eec67b909ca316b250d9b4daedbf272a3cbeb907\n",
      "Successfully built playsound\n",
      "Installing collected packages: playsound\n",
      "Successfully installed playsound-1.3.0\n"
     ]
    }
   ],
   "source": [
    "!pip install playsound\n"
   ]
  },
  {
   "cell_type": "code",
   "execution_count": 15,
   "id": "9a4a9ce4-20b4-439c-a233-3adb7d3f2953",
   "metadata": {},
   "outputs": [
    {
     "name": "stdin",
     "output_type": "stream",
     "text": [
      "Enter numbers separated by spaces:  11 1 30 2 51 6 29 7 67 15 118 4 89 23\n"
     ]
    },
    {
     "name": "stdout",
     "output_type": "stream",
     "text": [
      "Original array: [11, 1, 30, 2, 51, 6, 29, 7, 67, 15, 118, 4, 89, 23]\n",
      "Root: [11, 1, 30, 2, 51, 6, 29, 7, 67, 15, 118, 4, 89, 23]\n",
      "   Left: [11, 1, 30, 2, 51, 6, 29]\n",
      "      Left: [11, 1, 30]\n",
      "         Right: [1, 30]\n",
      "         Right (merged): [1, 30]\n",
      "      Left (merged): [1, 11, 30]\n",
      "      Right: [2, 51, 6, 29]\n",
      "         Left: [2, 51]\n",
      "         Left (merged): [2, 51]\n",
      "         Right: [6, 29]\n",
      "         Right (merged): [6, 29]\n",
      "      Right (merged): [2, 6, 29, 51]\n",
      "   Left (merged): [1, 2, 6, 11, 29, 30, 51]\n",
      "   Right: [7, 67, 15, 118, 4, 89, 23]\n",
      "      Left: [7, 67, 15]\n",
      "         Right: [67, 15]\n",
      "         Right (merged): [15, 67]\n",
      "      Left (merged): [7, 15, 67]\n",
      "      Right: [118, 4, 89, 23]\n",
      "         Left: [118, 4]\n",
      "         Left (merged): [4, 118]\n",
      "         Right: [89, 23]\n",
      "         Right (merged): [23, 89]\n",
      "      Right (merged): [4, 23, 89, 118]\n",
      "   Right (merged): [4, 7, 15, 23, 67, 89, 118]\n",
      "Root (merged): [1, 2, 4, 6, 7, 11, 15, 23, 29, 30, 51, 67, 89, 118]\n",
      "Sorted array: [1, 2, 4, 6, 7, 11, 15, 23, 29, 30, 51, 67, 89, 118]\n"
     ]
    }
   ],
   "source": [
    "import os\n",
    "from playsound import playsound\n",
    "import time\n",
    "\n",
    "def play_sound():\n",
    "    sound_file = 'beep.wav'\n",
    "    if os.path.exists(sound_file):\n",
    "        playsound(sound_file)\n",
    "\n",
    "def merge_sort_visualize(array, depth=0, prefix=\"Root\"):\n",
    "    if len(array) > 1:\n",
    "        mid_point = len(array) // 2\n",
    "        left_half = array[:mid_point]\n",
    "        right_half = array[mid_point:]\n",
    "\n",
    "        print('   ' * depth + f\"{prefix}: {array}\")\n",
    "        play_sound()\n",
    "        time.sleep(0.5) \n",
    "\n",
    "        merge_sort_visualize(left_half, depth + 1, \"Left\")\n",
    "        merge_sort_visualize(right_half, depth + 1, \"Right\")\n",
    "\n",
    "        iL = 0\n",
    "        iR = 0\n",
    "        iM = 0\n",
    "        \n",
    "        ''' iL = index for traversing the left half of the array\n",
    "            iR = index for traversing the right half of the array\n",
    "            iM = index for placing the elements into the merged array '''\n",
    "\n",
    "        while iL < len(left_half) and iR < len(right_half):\n",
    "            if left_half[iL] < right_half[iR]:\n",
    "                array[iM] = left_half[iL]\n",
    "                iL += 1\n",
    "            else:\n",
    "                array[iM] = right_half[iR]\n",
    "                iR += 1\n",
    "            iM += 1\n",
    "        \n",
    "        while iL < len(left_half):\n",
    "            array[iM] = left_half[iL]\n",
    "            iL += 1\n",
    "            iM += 1\n",
    "\n",
    "        while iR < len(right_half):\n",
    "            array[iM] = right_half[iR]\n",
    "            iR += 1\n",
    "            iM += 1\n",
    "\n",
    "        print('   ' * depth + f\"{prefix} (merged): {array}\")\n",
    "        play_sound()\n",
    "        time.sleep(0.5) \n",
    "\n",
    "\n",
    "input_array = input(\"Enter numbers separated by spaces: \").split()\n",
    "input_array = [int(x) for x in input_array]\n",
    "\n",
    "print(\"Original array:\", input_array)\n",
    "play_sound()\n",
    "time.sleep(0.5)  \n",
    "\n",
    "merge_sort_visualize(input_array)\n",
    "\n",
    "print(\"Sorted array:\", input_array)\n",
    "play_sound()\n",
    "time.sleep(0.5) \n"
   ]
  },
  {
   "cell_type": "code",
   "execution_count": null,
   "id": "b96f878c-4421-4ca0-a38f-2ebbf013c557",
   "metadata": {},
   "outputs": [],
   "source": []
  }
 ],
 "metadata": {
  "kernelspec": {
   "display_name": "Python 3 (ipykernel)",
   "language": "python",
   "name": "python3"
  },
  "language_info": {
   "codemirror_mode": {
    "name": "ipython",
    "version": 3
   },
   "file_extension": ".py",
   "mimetype": "text/x-python",
   "name": "python",
   "nbconvert_exporter": "python",
   "pygments_lexer": "ipython3",
   "version": "3.12.4"
  }
 },
 "nbformat": 4,
 "nbformat_minor": 5
}
